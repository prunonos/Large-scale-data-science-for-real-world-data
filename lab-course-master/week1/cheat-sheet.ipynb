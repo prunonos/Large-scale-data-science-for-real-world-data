{
 "cells": [
  {
   "cell_type": "markdown",
   "metadata": {
    "slideshow": {
     "slide_type": "slide"
    }
   },
   "source": [
    "# Week 1 Cheat Sheet\n",
    "\n",
    "* Session 1 - Refresher course with Python 3.7\n",
    "* Session 2 - Numpy, Scipy, and matplotlib\n",
    "* Session 3 - Pandas, Scikit-Learn"
   ]
  },
  {
   "cell_type": "markdown",
   "metadata": {
    "cell_style": "split",
    "slideshow": {
     "slide_type": "slide"
    }
   },
   "source": [
    "## Refresher course with Python 3.7</h2>\n",
    "\n",
    "\n",
    "* Generator\n",
    "* List comprehensions\n",
    "* Lambda operators\n",
    "* String and list operations"
   ]
  },
  {
   "cell_type": "markdown",
   "metadata": {
    "slideshow": {
     "slide_type": "subslide"
    }
   },
   "source": [
    "## Generators\n",
    "\n",
    "* A special kind of function that return a lazy iterator\n"
   ]
  },
  {
   "cell_type": "code",
   "execution_count": null,
   "metadata": {
    "scrolled": true,
    "slideshow": {
     "slide_type": "fragment"
    }
   },
   "outputs": [],
   "source": [
    "def fib():\n",
    "    a, b = 0, 1\n",
    "    while True:\n",
    "        yield b\n",
    "        a, b = b, a+b "
   ]
  },
  {
   "cell_type": "code",
   "execution_count": null,
   "metadata": {
    "scrolled": true,
    "slideshow": {
     "slide_type": "fragment"
    }
   },
   "outputs": [],
   "source": []
  },
  {
   "cell_type": "markdown",
   "metadata": {
    "slideshow": {
     "slide_type": "subslide"
    }
   },
   "source": [
    "## List comprehensions\n",
    "\n",
    "* List comprehensions provide a concise way to create lists\n",
    "* Expression followed by a **for** clause, then zero or more **for** or **if** clauses\n",
    "* List comprehensions can be nested (matrix)\n"
   ]
  },
  {
   "cell_type": "code",
   "execution_count": null,
   "metadata": {
    "scrolled": true,
    "slideshow": {
     "slide_type": "fragment"
    }
   },
   "outputs": [],
   "source": [
    "[ expression for a in clause for b in clause if clause ]"
   ]
  },
  {
   "cell_type": "markdown",
   "metadata": {
    "slideshow": {
     "slide_type": "subslide"
    }
   },
   "source": [
    "## Dictionary comprehension"
   ]
  },
  {
   "cell_type": "markdown",
   "metadata": {
    "slideshow": {
     "slide_type": "fragment"
    }
   },
   "source": [
    "* Provide a concise way to create dictionaries"
   ]
  },
  {
   "cell_type": "code",
   "execution_count": null,
   "metadata": {
    "scrolled": true,
    "slideshow": {
     "slide_type": "fragment"
    }
   },
   "outputs": [],
   "source": [
    "a={ i:i**2 for i in range(10) }\n",
    "print(a)"
   ]
  },
  {
   "cell_type": "markdown",
   "metadata": {
    "slideshow": {
     "slide_type": "subslide"
    }
   },
   "source": [
    "## Map, reduce and lambda functions"
   ]
  },
  {
   "cell_type": "markdown",
   "metadata": {
    "slideshow": {
     "slide_type": "fragment"
    }
   },
   "source": [
    "* Map - compute $y_k=f(x_k)$ to each item $x_k$ of an iterable\n",
    "* Reduce - recursively compute $y_k=f(x_k,y_{k-1})$ to fold items $x_k$ of an iterable into a cumulative value\n",
    "* Lambda - anonymous functions not bound to an identifier, used as argument to other functions, e.g. $f$ of map and reduce"
   ]
  },
  {
   "cell_type": "code",
   "execution_count": null,
   "metadata": {
    "slideshow": {
     "slide_type": "fragment"
    }
   },
   "outputs": [],
   "source": [
    "from functools import reduce\n",
    "reduce(lambda x,y:x+y, map(lambda x:x**2, [1,2,3]))"
   ]
  },
  {
   "cell_type": "markdown",
   "metadata": {
    "slideshow": {
     "slide_type": "subslide"
    }
   },
   "source": [
    "# Let's get started\n",
    "\n",
    "* Open [notebook 1](./DSLab_week1-1.ipynb)\n",
    "* Meet us back in 20min"
   ]
  },
  {
   "cell_type": "markdown",
   "metadata": {
    "slideshow": {
     "slide_type": "slide"
    }
   },
   "source": [
    "## Python Mathematical libraries\n",
    "<img align=\"left\" width=\"30%\" src=\"./figs/pythonstack.svg\"/>"
   ]
  },
  {
   "cell_type": "markdown",
   "metadata": {
    "slideshow": {
     "slide_type": "subslide"
    }
   },
   "source": [
    "## NumPy\n",
    "\n",
    "* Core library for scientific computing in Python\n",
    "* Provides a high-performance multidimensional array object\n",
    "* Large collection of high-level mathematical functions to operate on arrays objects\n",
    "* Optimized for size and performance"
   ]
  },
  {
   "cell_type": "markdown",
   "metadata": {
    "slideshow": {
     "slide_type": "slide"
    }
   },
   "source": [
    "## Numpy\n",
    "* Optimized for size and peformance"
   ]
  },
  {
   "cell_type": "code",
   "execution_count": null,
   "metadata": {
    "slideshow": {
     "slide_type": "fragment"
    }
   },
   "outputs": [],
   "source": [
    "import numpy as np\n",
    "pyList  = range(1,1000000)\n",
    "npArray = np.arange(1,1000000)"
   ]
  },
  {
   "cell_type": "code",
   "execution_count": null,
   "metadata": {},
   "outputs": [],
   "source": [
    "%%timeit\n",
    "[1./i for i in pyList]"
   ]
  },
  {
   "cell_type": "code",
   "execution_count": null,
   "metadata": {},
   "outputs": [],
   "source": [
    "%%timeit\n",
    "1./npArray"
   ]
  },
  {
   "cell_type": "markdown",
   "metadata": {
    "slideshow": {
     "slide_type": "subslide"
    }
   },
   "source": [
    "## Numpy\n",
    "* A NumPy *ndarray* is a grid of values, all of the same type\n",
    "* Indexed by a value or range (`:`) of non-negative integers\n",
    "* The *ndarray.shape* is the size of the array on each dimension"
   ]
  },
  {
   "cell_type": "code",
   "execution_count": null,
   "metadata": {
    "slideshow": {
     "slide_type": "fragment"
    }
   },
   "outputs": [],
   "source": [
    "import numpy as np\n",
    "a=np.array([[1,2,3],[4,5,6]])\n",
    "print(a[:,:])\n",
    "print(a.shape)"
   ]
  },
  {
   "cell_type": "markdown",
   "metadata": {
    "slideshow": {
     "slide_type": "subslide"
    }
   },
   "source": [
    "## Relevant NumPy functions\n",
    "* **arange**([start,] stop[, step], [, dtype=None])\n",
    "* **linspace**(start, stop, num=50, endpoint=True, retstep=False)\n",
    "* **reshape**(array, newshape, order=‘C’)\n",
    "* **copy**(obj, order='K’)"
   ]
  },
  {
   "cell_type": "markdown",
   "metadata": {
    "slideshow": {
     "slide_type": "subslide"
    }
   },
   "source": [
    "## Relevant NumPy functions\n",
    "* **matmul**(x1, x2, ...) or x1 @ x2\n",
    "* **multiply**(x1, x2, ...) or x1 * x2\n",
    "* **dot**(x1, x2, ...)"
   ]
  },
  {
   "cell_type": "code",
   "execution_count": null,
   "metadata": {
    "slideshow": {
     "slide_type": "fragment"
    }
   },
   "outputs": [],
   "source": [
    "import numpy as np\n",
    "a=np.arange(12).reshape((4,3),order='C') # A,C,F\n",
    "print(a)"
   ]
  },
  {
   "cell_type": "code",
   "execution_count": null,
   "metadata": {
    "slideshow": {
     "slide_type": "fragment"
    }
   },
   "outputs": [],
   "source": [
    "b=np.arange(12).reshape((3,4),order='C')\n",
    "b @ a"
   ]
  },
  {
   "cell_type": "markdown",
   "metadata": {
    "slideshow": {
     "slide_type": "subslide"
    }
   },
   "source": [
    "## SciPy\n",
    "* Built on NumPy\n",
    "* Mathematical library for Scientific and Technical Computing\n",
    "   - Linear algebra, Interpolation, Integration\n",
    "   - Image and signal processing, FFT\n",
    "   - Linear optimization\n",
    "   - Spatial algebra\n",
    "   - Statistical functions\n"
   ]
  },
  {
   "cell_type": "markdown",
   "metadata": {
    "slideshow": {
     "slide_type": "subslide"
    }
   },
   "source": [
    "# Let's get started\n",
    "\n",
    "* Open [notebook 2](./DSLab_week1-2.ipynb)\n",
    "* See you in 20min"
   ]
  },
  {
   "cell_type": "markdown",
   "metadata": {
    "slideshow": {
     "slide_type": "slide"
    }
   },
   "source": [
    "## Pandas and Pandas DataFrames\n",
    "* Powerful & flexible data munging library\n",
    "* Built on top of NumPy\n",
    "    - NumPy stores your data in arrays\n",
    "    - Pandas takes the arrays, ...\\\n",
    "        ... and gives you labeld index to it\n",
    "* Pandas is a 2-D labeled data structure (table) with columns of potentially different types\n",
    "    - Basically dictionary based NumPy *ndarray*\n",
    "* Recommended reading [pandas documentation](https://pandas.pydata.org/pandas-docs/stable/reference/index.html)"
   ]
  },
  {
   "cell_type": "markdown",
   "metadata": {
    "slideshow": {
     "slide_type": "slide"
    }
   },
   "source": [
    "## Scikit-learn - Machine Learning in Python\n",
    "* [documentation](http://scikit-learn.org/stable/index.html)\n",
    "    - Classification, [Decision Trees](https://scikit-learn.org/stable/modules/classes.html#module-sklearn.tree) and [Random Forests](https://scikit-learn.org/stable/modules/generated/sklearn.ensemble.RandomForestClassifier.html#sklearn.ensemble.RandomForestClassifier)\n",
    "    - Regression (logistic regression)\n",
    "    - [Clustering](https://scikit-learn.org/stable/modules/classes.html#module-sklearn.cluster) ([K-Mean](https://scikit-learn.org/stable/modules/generated/sklearn.cluster.KMeans.html))\n",
    "    - [Nearest Neighbors](https://scikit-learn.org/stable/modules/classes.html#module-sklearn.neighbors)\n",
    "    - Dimensionality reduction ([PCA](http://scikit-learn.org/stable/modules/generated/sklearn.decomposition.PCA.html#sklearn.decomposition.PCA))\n",
    "    - [Model selection](https://scikit-learn.org/stable/modules/classes.html#module-sklearn.model_selection) ([hyper-parameters](https://scikit-learn.org/stable/modules/generated/sklearn.model_selection.GridSearchCV.html#sklearn.model_selection.GridSearchCV))\n",
    "    - ..."
   ]
  },
  {
   "cell_type": "markdown",
   "metadata": {
    "slideshow": {
     "slide_type": "subslide"
    }
   },
   "source": [
    "# Let's get started\n",
    "\n",
    "* Open [notebook 3](./DSLab_week1-3.ipynb)\n",
    "* See you in 20min"
   ]
  },
  {
   "cell_type": "code",
   "execution_count": null,
   "metadata": {
    "slideshow": {
     "slide_type": "skip"
    }
   },
   "outputs": [],
   "source": []
  }
 ],
 "metadata": {
  "celltoolbar": "Slideshow",
  "kernelspec": {
   "display_name": "Python 3 (ipykernel)",
   "language": "python",
   "name": "python3"
  },
  "language_info": {
   "codemirror_mode": {
    "name": "ipython",
    "version": 3
   },
   "file_extension": ".py",
   "mimetype": "text/x-python",
   "name": "python",
   "nbconvert_exporter": "python",
   "pygments_lexer": "ipython3",
   "version": "3.9.6"
  },
  "rise": {
   "auto_select": "code",
   "auto_select_fragment": true,
   "autolaunch": true,
   "scroll": true,
   "start_slideshow_at": "beginning",
   "theme": "sky"
  }
 },
 "nbformat": 4,
 "nbformat_minor": 4
}
